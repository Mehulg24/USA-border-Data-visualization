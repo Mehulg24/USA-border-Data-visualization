{
 "cells": [
  {
   "cell_type": "code",
   "execution_count": 129,
   "metadata": {},
   "outputs": [],
   "source": [
    "import numpy as np\n",
    "import pandas as pd\n",
    "# 1.2 For plotting\n",
    "import matplotlib.pyplot as plt\n",
    "import matplotlib\n",
    "import matplotlib as mpl     # For creating colormaps\n",
    "import seaborn as sns\n",
    "# 1.3 For data processing\n",
    "from sklearn.preprocessing import StandardScaler\n",
    "# 1.4 OS related\n",
    "import os"
   ]
  },
  {
   "cell_type": "code",
   "execution_count": 130,
   "metadata": {},
   "outputs": [],
   "source": [
    "os.chdir(\"D:\\\\data analyst data\\\\download data\")"
   ]
  },
  {
   "cell_type": "code",
   "execution_count": 131,
   "metadata": {},
   "outputs": [
    {
     "data": {
      "text/plain": [
       "['07022020',\n",
       " '1.ta_feng_groupby_simple.py',\n",
       " '15022020',\n",
       " 'About Ta Feng dataset.txt',\n",
       " 'archive',\n",
       " 'bigdata5',\n",
       " 'books',\n",
       " 'Border_Crossing_Entry_Data.csv.zip',\n",
       " 'dall.csv.zip',\n",
       " 'delhi_weather_data.zip',\n",
       " 'final_file.ipynb',\n",
       " 'labels.csv',\n",
       " 'lubuntu18_fresh',\n",
       " 'lubuntu_influxDB',\n",
       " 'lubuntu_spark',\n",
       " 'lubuntu_spark_new2',\n",
       " 'resize',\n",
       " 'siftData.csv',\n",
       " 'ubuntu_spark',\n",
       " 'weekOfJune12',\n",
       " 'weekOfJune19']"
      ]
     },
     "execution_count": 131,
     "metadata": {},
     "output_type": "execute_result"
    }
   ],
   "source": [
    "os.listdir()"
   ]
  },
  {
   "cell_type": "code",
   "execution_count": 132,
   "metadata": {},
   "outputs": [],
   "source": [
    "data = pd.read_csv(\"Border_Crossing_Entry_Data.csv.zip\",\n",
    "                   parse_dates = ['Date']\n",
    "                  )"
   ]
  },
  {
   "cell_type": "code",
   "execution_count": 145,
   "metadata": {},
   "outputs": [
    {
     "data": {
      "text/html": [
       "<div>\n",
       "<style scoped>\n",
       "    .dataframe tbody tr th:only-of-type {\n",
       "        vertical-align: middle;\n",
       "    }\n",
       "\n",
       "    .dataframe tbody tr th {\n",
       "        vertical-align: top;\n",
       "    }\n",
       "\n",
       "    .dataframe thead th {\n",
       "        text-align: right;\n",
       "    }\n",
       "</style>\n",
       "<table border=\"1\" class=\"dataframe\">\n",
       "  <thead>\n",
       "    <tr style=\"text-align: right;\">\n",
       "      <th></th>\n",
       "      <th>port_name</th>\n",
       "      <th>state</th>\n",
       "      <th>port_code</th>\n",
       "      <th>border</th>\n",
       "      <th>date</th>\n",
       "      <th>measure</th>\n",
       "      <th>value</th>\n",
       "      <th>location</th>\n",
       "    </tr>\n",
       "  </thead>\n",
       "  <tbody>\n",
       "    <tr>\n",
       "      <th>0</th>\n",
       "      <td>Calexico East</td>\n",
       "      <td>California</td>\n",
       "      <td>2507</td>\n",
       "      <td>US-Mexico Border</td>\n",
       "      <td>2019-03-01</td>\n",
       "      <td>Trucks</td>\n",
       "      <td>34447</td>\n",
       "      <td>POINT (-115.48433000000001 32.67524)</td>\n",
       "    </tr>\n",
       "    <tr>\n",
       "      <th>1</th>\n",
       "      <td>Van Buren</td>\n",
       "      <td>Maine</td>\n",
       "      <td>108</td>\n",
       "      <td>US-Canada Border</td>\n",
       "      <td>2019-03-01</td>\n",
       "      <td>Rail Containers Full</td>\n",
       "      <td>428</td>\n",
       "      <td>POINT (-67.94271 47.16207)</td>\n",
       "    </tr>\n",
       "    <tr>\n",
       "      <th>2</th>\n",
       "      <td>Otay Mesa</td>\n",
       "      <td>California</td>\n",
       "      <td>2506</td>\n",
       "      <td>US-Mexico Border</td>\n",
       "      <td>2019-03-01</td>\n",
       "      <td>Trucks</td>\n",
       "      <td>81217</td>\n",
       "      <td>POINT (-117.05333 32.57333)</td>\n",
       "    </tr>\n",
       "    <tr>\n",
       "      <th>3</th>\n",
       "      <td>Nogales</td>\n",
       "      <td>Arizona</td>\n",
       "      <td>2604</td>\n",
       "      <td>US-Mexico Border</td>\n",
       "      <td>2019-03-01</td>\n",
       "      <td>Trains</td>\n",
       "      <td>62</td>\n",
       "      <td>POINT (-110.93361 31.340279999999996)</td>\n",
       "    </tr>\n",
       "    <tr>\n",
       "      <th>4</th>\n",
       "      <td>Trout River</td>\n",
       "      <td>New York</td>\n",
       "      <td>715</td>\n",
       "      <td>US-Canada Border</td>\n",
       "      <td>2019-03-01</td>\n",
       "      <td>Personal Vehicle Passengers</td>\n",
       "      <td>16377</td>\n",
       "      <td>POINT (-73.44253 44.990010000000005)</td>\n",
       "    </tr>\n",
       "    <tr>\n",
       "      <th>...</th>\n",
       "      <td>...</td>\n",
       "      <td>...</td>\n",
       "      <td>...</td>\n",
       "      <td>...</td>\n",
       "      <td>...</td>\n",
       "      <td>...</td>\n",
       "      <td>...</td>\n",
       "      <td>...</td>\n",
       "    </tr>\n",
       "    <tr>\n",
       "      <th>346728</th>\n",
       "      <td>Norton</td>\n",
       "      <td>Vermont</td>\n",
       "      <td>211</td>\n",
       "      <td>US-Canada Border</td>\n",
       "      <td>1996-01-01</td>\n",
       "      <td>Personal Vehicle Passengers</td>\n",
       "      <td>9119</td>\n",
       "      <td>POINT (-71.79 45.01)</td>\n",
       "    </tr>\n",
       "    <tr>\n",
       "      <th>346729</th>\n",
       "      <td>Columbus</td>\n",
       "      <td>New Mexico</td>\n",
       "      <td>2406</td>\n",
       "      <td>US-Mexico Border</td>\n",
       "      <td>1996-01-01</td>\n",
       "      <td>Personal Vehicles</td>\n",
       "      <td>29486</td>\n",
       "      <td>POINT (-107.63 31.78)</td>\n",
       "    </tr>\n",
       "    <tr>\n",
       "      <th>346730</th>\n",
       "      <td>Hansboro</td>\n",
       "      <td>North Dakota</td>\n",
       "      <td>3415</td>\n",
       "      <td>US-Canada Border</td>\n",
       "      <td>1996-01-01</td>\n",
       "      <td>Rail Containers Full</td>\n",
       "      <td>0</td>\n",
       "      <td>POINT (-99.35 49)</td>\n",
       "    </tr>\n",
       "    <tr>\n",
       "      <th>346731</th>\n",
       "      <td>Calexico East</td>\n",
       "      <td>California</td>\n",
       "      <td>2507</td>\n",
       "      <td>US-Mexico Border</td>\n",
       "      <td>1996-01-01</td>\n",
       "      <td>Buses</td>\n",
       "      <td>0</td>\n",
       "      <td>POINT (-115.39 32.67)</td>\n",
       "    </tr>\n",
       "    <tr>\n",
       "      <th>346732</th>\n",
       "      <td>Presidio</td>\n",
       "      <td>Texas</td>\n",
       "      <td>2403</td>\n",
       "      <td>US-Mexico Border</td>\n",
       "      <td>1996-01-01</td>\n",
       "      <td>Trucks</td>\n",
       "      <td>347</td>\n",
       "      <td>POINT (-104.39000000000001 29.56)</td>\n",
       "    </tr>\n",
       "  </tbody>\n",
       "</table>\n",
       "<p>346733 rows × 8 columns</p>\n",
       "</div>"
      ],
      "text/plain": [
       "            port_name         state  port_code            border       date  \\\n",
       "0       Calexico East    California       2507  US-Mexico Border 2019-03-01   \n",
       "1           Van Buren         Maine        108  US-Canada Border 2019-03-01   \n",
       "2           Otay Mesa    California       2506  US-Mexico Border 2019-03-01   \n",
       "3             Nogales       Arizona       2604  US-Mexico Border 2019-03-01   \n",
       "4         Trout River      New York        715  US-Canada Border 2019-03-01   \n",
       "...               ...           ...        ...               ...        ...   \n",
       "346728         Norton       Vermont        211  US-Canada Border 1996-01-01   \n",
       "346729       Columbus    New Mexico       2406  US-Mexico Border 1996-01-01   \n",
       "346730       Hansboro  North Dakota       3415  US-Canada Border 1996-01-01   \n",
       "346731  Calexico East    California       2507  US-Mexico Border 1996-01-01   \n",
       "346732       Presidio         Texas       2403  US-Mexico Border 1996-01-01   \n",
       "\n",
       "                            measure  value  \\\n",
       "0                            Trucks  34447   \n",
       "1              Rail Containers Full    428   \n",
       "2                            Trucks  81217   \n",
       "3                            Trains     62   \n",
       "4       Personal Vehicle Passengers  16377   \n",
       "...                             ...    ...   \n",
       "346728  Personal Vehicle Passengers   9119   \n",
       "346729            Personal Vehicles  29486   \n",
       "346730         Rail Containers Full      0   \n",
       "346731                        Buses      0   \n",
       "346732                       Trucks    347   \n",
       "\n",
       "                                     location  \n",
       "0        POINT (-115.48433000000001 32.67524)  \n",
       "1                  POINT (-67.94271 47.16207)  \n",
       "2                 POINT (-117.05333 32.57333)  \n",
       "3       POINT (-110.93361 31.340279999999996)  \n",
       "4        POINT (-73.44253 44.990010000000005)  \n",
       "...                                       ...  \n",
       "346728                   POINT (-71.79 45.01)  \n",
       "346729                  POINT (-107.63 31.78)  \n",
       "346730                      POINT (-99.35 49)  \n",
       "346731                  POINT (-115.39 32.67)  \n",
       "346732      POINT (-104.39000000000001 29.56)  \n",
       "\n",
       "[346733 rows x 8 columns]"
      ]
     },
     "execution_count": 145,
     "metadata": {},
     "output_type": "execute_result"
    }
   ],
   "source": [
    "data"
   ]
  },
  {
   "cell_type": "code",
   "execution_count": 146,
   "metadata": {},
   "outputs": [
    {
     "data": {
      "text/html": [
       "<div>\n",
       "<style scoped>\n",
       "    .dataframe tbody tr th:only-of-type {\n",
       "        vertical-align: middle;\n",
       "    }\n",
       "\n",
       "    .dataframe tbody tr th {\n",
       "        vertical-align: top;\n",
       "    }\n",
       "\n",
       "    .dataframe thead th {\n",
       "        text-align: right;\n",
       "    }\n",
       "</style>\n",
       "<table border=\"1\" class=\"dataframe\">\n",
       "  <thead>\n",
       "    <tr style=\"text-align: right;\">\n",
       "      <th></th>\n",
       "      <th>port_name</th>\n",
       "      <th>state</th>\n",
       "      <th>port_code</th>\n",
       "      <th>border</th>\n",
       "      <th>date</th>\n",
       "      <th>measure</th>\n",
       "      <th>value</th>\n",
       "      <th>location</th>\n",
       "    </tr>\n",
       "  </thead>\n",
       "  <tbody>\n",
       "    <tr>\n",
       "      <th>0</th>\n",
       "      <td>Calexico East</td>\n",
       "      <td>California</td>\n",
       "      <td>2507</td>\n",
       "      <td>US-Mexico Border</td>\n",
       "      <td>2019-03-01</td>\n",
       "      <td>Trucks</td>\n",
       "      <td>34447</td>\n",
       "      <td>POINT (-115.48433000000001 32.67524)</td>\n",
       "    </tr>\n",
       "    <tr>\n",
       "      <th>1</th>\n",
       "      <td>Van Buren</td>\n",
       "      <td>Maine</td>\n",
       "      <td>108</td>\n",
       "      <td>US-Canada Border</td>\n",
       "      <td>2019-03-01</td>\n",
       "      <td>Rail Containers Full</td>\n",
       "      <td>428</td>\n",
       "      <td>POINT (-67.94271 47.16207)</td>\n",
       "    </tr>\n",
       "    <tr>\n",
       "      <th>2</th>\n",
       "      <td>Otay Mesa</td>\n",
       "      <td>California</td>\n",
       "      <td>2506</td>\n",
       "      <td>US-Mexico Border</td>\n",
       "      <td>2019-03-01</td>\n",
       "      <td>Trucks</td>\n",
       "      <td>81217</td>\n",
       "      <td>POINT (-117.05333 32.57333)</td>\n",
       "    </tr>\n",
       "    <tr>\n",
       "      <th>3</th>\n",
       "      <td>Nogales</td>\n",
       "      <td>Arizona</td>\n",
       "      <td>2604</td>\n",
       "      <td>US-Mexico Border</td>\n",
       "      <td>2019-03-01</td>\n",
       "      <td>Trains</td>\n",
       "      <td>62</td>\n",
       "      <td>POINT (-110.93361 31.340279999999996)</td>\n",
       "    </tr>\n",
       "    <tr>\n",
       "      <th>4</th>\n",
       "      <td>Trout River</td>\n",
       "      <td>New York</td>\n",
       "      <td>715</td>\n",
       "      <td>US-Canada Border</td>\n",
       "      <td>2019-03-01</td>\n",
       "      <td>Personal Vehicle Passengers</td>\n",
       "      <td>16377</td>\n",
       "      <td>POINT (-73.44253 44.990010000000005)</td>\n",
       "    </tr>\n",
       "  </tbody>\n",
       "</table>\n",
       "</div>"
      ],
      "text/plain": [
       "       port_name       state  port_code            border       date  \\\n",
       "0  Calexico East  California       2507  US-Mexico Border 2019-03-01   \n",
       "1      Van Buren       Maine        108  US-Canada Border 2019-03-01   \n",
       "2      Otay Mesa  California       2506  US-Mexico Border 2019-03-01   \n",
       "3        Nogales     Arizona       2604  US-Mexico Border 2019-03-01   \n",
       "4    Trout River    New York        715  US-Canada Border 2019-03-01   \n",
       "\n",
       "                       measure  value                               location  \n",
       "0                       Trucks  34447   POINT (-115.48433000000001 32.67524)  \n",
       "1         Rail Containers Full    428             POINT (-67.94271 47.16207)  \n",
       "2                       Trucks  81217            POINT (-117.05333 32.57333)  \n",
       "3                       Trains     62  POINT (-110.93361 31.340279999999996)  \n",
       "4  Personal Vehicle Passengers  16377   POINT (-73.44253 44.990010000000005)  "
      ]
     },
     "execution_count": 146,
     "metadata": {},
     "output_type": "execute_result"
    }
   ],
   "source": [
    "data.head()"
   ]
  },
  {
   "cell_type": "code",
   "execution_count": 147,
   "metadata": {},
   "outputs": [
    {
     "data": {
      "text/plain": [
       "port_name            object\n",
       "state                object\n",
       "port_code             int64\n",
       "border               object\n",
       "date         datetime64[ns]\n",
       "measure              object\n",
       "value                 int64\n",
       "location             object\n",
       "dtype: object"
      ]
     },
     "execution_count": 147,
     "metadata": {},
     "output_type": "execute_result"
    }
   ],
   "source": [
    "data.dtypes"
   ]
  },
  {
   "cell_type": "code",
   "execution_count": 148,
   "metadata": {},
   "outputs": [
    {
     "name": "stdout",
     "output_type": "stream",
     "text": [
      "<class 'pandas.core.frame.DataFrame'>\n",
      "RangeIndex: 346733 entries, 0 to 346732\n",
      "Data columns (total 8 columns):\n",
      " #   Column     Non-Null Count   Dtype         \n",
      "---  ------     --------------   -----         \n",
      " 0   port_name  346733 non-null  object        \n",
      " 1   state      346733 non-null  object        \n",
      " 2   port_code  346733 non-null  int64         \n",
      " 3   border     346733 non-null  object        \n",
      " 4   date       346733 non-null  datetime64[ns]\n",
      " 5   measure    346733 non-null  object        \n",
      " 6   value      346733 non-null  int64         \n",
      " 7   location   346733 non-null  object        \n",
      "dtypes: datetime64[ns](1), int64(2), object(5)\n",
      "memory usage: 21.2+ MB\n"
     ]
    }
   ],
   "source": [
    "data.info() # check for any null values"
   ]
  },
  {
   "cell_type": "code",
   "execution_count": 149,
   "metadata": {},
   "outputs": [
    {
     "data": {
      "text/plain": [
       "Index(['port_name', 'state', 'port_code', 'border', 'date', 'measure', 'value',\n",
       "       'location'],\n",
       "      dtype='object')"
      ]
     },
     "execution_count": 149,
     "metadata": {},
     "output_type": "execute_result"
    }
   ],
   "source": [
    "data.columns"
   ]
  },
  {
   "cell_type": "code",
   "execution_count": 150,
   "metadata": {},
   "outputs": [
    {
     "data": {
      "text/html": [
       "<div>\n",
       "<style scoped>\n",
       "    .dataframe tbody tr th:only-of-type {\n",
       "        vertical-align: middle;\n",
       "    }\n",
       "\n",
       "    .dataframe tbody tr th {\n",
       "        vertical-align: top;\n",
       "    }\n",
       "\n",
       "    .dataframe thead th {\n",
       "        text-align: right;\n",
       "    }\n",
       "</style>\n",
       "<table border=\"1\" class=\"dataframe\">\n",
       "  <thead>\n",
       "    <tr style=\"text-align: right;\">\n",
       "      <th></th>\n",
       "      <th>port_name</th>\n",
       "      <th>state</th>\n",
       "      <th>port_code</th>\n",
       "      <th>border</th>\n",
       "      <th>date</th>\n",
       "      <th>measure</th>\n",
       "      <th>value</th>\n",
       "      <th>location</th>\n",
       "    </tr>\n",
       "  </thead>\n",
       "  <tbody>\n",
       "    <tr>\n",
       "      <th>0</th>\n",
       "      <td>Calexico East</td>\n",
       "      <td>California</td>\n",
       "      <td>2507</td>\n",
       "      <td>US-Mexico Border</td>\n",
       "      <td>2019-03-01</td>\n",
       "      <td>Trucks</td>\n",
       "      <td>34447</td>\n",
       "      <td>POINT (-115.48433000000001 32.67524)</td>\n",
       "    </tr>\n",
       "    <tr>\n",
       "      <th>1</th>\n",
       "      <td>Van Buren</td>\n",
       "      <td>Maine</td>\n",
       "      <td>108</td>\n",
       "      <td>US-Canada Border</td>\n",
       "      <td>2019-03-01</td>\n",
       "      <td>Rail Containers Full</td>\n",
       "      <td>428</td>\n",
       "      <td>POINT (-67.94271 47.16207)</td>\n",
       "    </tr>\n",
       "    <tr>\n",
       "      <th>2</th>\n",
       "      <td>Otay Mesa</td>\n",
       "      <td>California</td>\n",
       "      <td>2506</td>\n",
       "      <td>US-Mexico Border</td>\n",
       "      <td>2019-03-01</td>\n",
       "      <td>Trucks</td>\n",
       "      <td>81217</td>\n",
       "      <td>POINT (-117.05333 32.57333)</td>\n",
       "    </tr>\n",
       "    <tr>\n",
       "      <th>3</th>\n",
       "      <td>Nogales</td>\n",
       "      <td>Arizona</td>\n",
       "      <td>2604</td>\n",
       "      <td>US-Mexico Border</td>\n",
       "      <td>2019-03-01</td>\n",
       "      <td>Trains</td>\n",
       "      <td>62</td>\n",
       "      <td>POINT (-110.93361 31.340279999999996)</td>\n",
       "    </tr>\n",
       "    <tr>\n",
       "      <th>4</th>\n",
       "      <td>Trout River</td>\n",
       "      <td>New York</td>\n",
       "      <td>715</td>\n",
       "      <td>US-Canada Border</td>\n",
       "      <td>2019-03-01</td>\n",
       "      <td>Personal Vehicle Passengers</td>\n",
       "      <td>16377</td>\n",
       "      <td>POINT (-73.44253 44.990010000000005)</td>\n",
       "    </tr>\n",
       "    <tr>\n",
       "      <th>...</th>\n",
       "      <td>...</td>\n",
       "      <td>...</td>\n",
       "      <td>...</td>\n",
       "      <td>...</td>\n",
       "      <td>...</td>\n",
       "      <td>...</td>\n",
       "      <td>...</td>\n",
       "      <td>...</td>\n",
       "    </tr>\n",
       "    <tr>\n",
       "      <th>346728</th>\n",
       "      <td>Norton</td>\n",
       "      <td>Vermont</td>\n",
       "      <td>211</td>\n",
       "      <td>US-Canada Border</td>\n",
       "      <td>1996-01-01</td>\n",
       "      <td>Personal Vehicle Passengers</td>\n",
       "      <td>9119</td>\n",
       "      <td>POINT (-71.79 45.01)</td>\n",
       "    </tr>\n",
       "    <tr>\n",
       "      <th>346729</th>\n",
       "      <td>Columbus</td>\n",
       "      <td>New Mexico</td>\n",
       "      <td>2406</td>\n",
       "      <td>US-Mexico Border</td>\n",
       "      <td>1996-01-01</td>\n",
       "      <td>Personal Vehicles</td>\n",
       "      <td>29486</td>\n",
       "      <td>POINT (-107.63 31.78)</td>\n",
       "    </tr>\n",
       "    <tr>\n",
       "      <th>346730</th>\n",
       "      <td>Hansboro</td>\n",
       "      <td>North Dakota</td>\n",
       "      <td>3415</td>\n",
       "      <td>US-Canada Border</td>\n",
       "      <td>1996-01-01</td>\n",
       "      <td>Rail Containers Full</td>\n",
       "      <td>0</td>\n",
       "      <td>POINT (-99.35 49)</td>\n",
       "    </tr>\n",
       "    <tr>\n",
       "      <th>346731</th>\n",
       "      <td>Calexico East</td>\n",
       "      <td>California</td>\n",
       "      <td>2507</td>\n",
       "      <td>US-Mexico Border</td>\n",
       "      <td>1996-01-01</td>\n",
       "      <td>Buses</td>\n",
       "      <td>0</td>\n",
       "      <td>POINT (-115.39 32.67)</td>\n",
       "    </tr>\n",
       "    <tr>\n",
       "      <th>346732</th>\n",
       "      <td>Presidio</td>\n",
       "      <td>Texas</td>\n",
       "      <td>2403</td>\n",
       "      <td>US-Mexico Border</td>\n",
       "      <td>1996-01-01</td>\n",
       "      <td>Trucks</td>\n",
       "      <td>347</td>\n",
       "      <td>POINT (-104.39000000000001 29.56)</td>\n",
       "    </tr>\n",
       "  </tbody>\n",
       "</table>\n",
       "<p>346733 rows × 8 columns</p>\n",
       "</div>"
      ],
      "text/plain": [
       "            port_name         state  port_code            border       date  \\\n",
       "0       Calexico East    California       2507  US-Mexico Border 2019-03-01   \n",
       "1           Van Buren         Maine        108  US-Canada Border 2019-03-01   \n",
       "2           Otay Mesa    California       2506  US-Mexico Border 2019-03-01   \n",
       "3             Nogales       Arizona       2604  US-Mexico Border 2019-03-01   \n",
       "4         Trout River      New York        715  US-Canada Border 2019-03-01   \n",
       "...               ...           ...        ...               ...        ...   \n",
       "346728         Norton       Vermont        211  US-Canada Border 1996-01-01   \n",
       "346729       Columbus    New Mexico       2406  US-Mexico Border 1996-01-01   \n",
       "346730       Hansboro  North Dakota       3415  US-Canada Border 1996-01-01   \n",
       "346731  Calexico East    California       2507  US-Mexico Border 1996-01-01   \n",
       "346732       Presidio         Texas       2403  US-Mexico Border 1996-01-01   \n",
       "\n",
       "                            measure  value  \\\n",
       "0                            Trucks  34447   \n",
       "1              Rail Containers Full    428   \n",
       "2                            Trucks  81217   \n",
       "3                            Trains     62   \n",
       "4       Personal Vehicle Passengers  16377   \n",
       "...                             ...    ...   \n",
       "346728  Personal Vehicle Passengers   9119   \n",
       "346729            Personal Vehicles  29486   \n",
       "346730         Rail Containers Full      0   \n",
       "346731                        Buses      0   \n",
       "346732                       Trucks    347   \n",
       "\n",
       "                                     location  \n",
       "0        POINT (-115.48433000000001 32.67524)  \n",
       "1                  POINT (-67.94271 47.16207)  \n",
       "2                 POINT (-117.05333 32.57333)  \n",
       "3       POINT (-110.93361 31.340279999999996)  \n",
       "4        POINT (-73.44253 44.990010000000005)  \n",
       "...                                       ...  \n",
       "346728                   POINT (-71.79 45.01)  \n",
       "346729                  POINT (-107.63 31.78)  \n",
       "346730                      POINT (-99.35 49)  \n",
       "346731                  POINT (-115.39 32.67)  \n",
       "346732      POINT (-104.39000000000001 29.56)  \n",
       "\n",
       "[346733 rows x 8 columns]"
      ]
     },
     "execution_count": 150,
     "metadata": {},
     "output_type": "execute_result"
    }
   ],
   "source": [
    "data.rename({\n",
    "             'Port Name' : 'port_name',\n",
    "             'State'     : 'state',\n",
    "             'Port Code' : 'port_code',\n",
    "             'Border'    : 'border',\n",
    "             'Date'      : 'date',\n",
    "             'Measure'   : 'measure',\n",
    "             'Value'     : 'value',\n",
    "             'Location'  : 'location'\n",
    "             },inplace='True',axis=1)\n",
    "data"
   ]
  },
  {
   "cell_type": "code",
   "execution_count": 151,
   "metadata": {},
   "outputs": [
    {
     "data": {
      "text/plain": [
       "116"
      ]
     },
     "execution_count": 151,
     "metadata": {},
     "output_type": "execute_result"
    }
   ],
   "source": [
    "data['port_name'].nunique()"
   ]
  },
  {
   "cell_type": "code",
   "execution_count": 152,
   "metadata": {},
   "outputs": [
    {
     "data": {
      "text/plain": [
       "117"
      ]
     },
     "execution_count": 152,
     "metadata": {},
     "output_type": "execute_result"
    }
   ],
   "source": [
    "data['port_code'].nunique()  # port_code and port_name are not the same"
   ]
  },
  {
   "cell_type": "code",
   "execution_count": 153,
   "metadata": {},
   "outputs": [
    {
     "data": {
      "text/html": [
       "<div>\n",
       "<style scoped>\n",
       "    .dataframe tbody tr th:only-of-type {\n",
       "        vertical-align: middle;\n",
       "    }\n",
       "\n",
       "    .dataframe tbody tr th {\n",
       "        vertical-align: top;\n",
       "    }\n",
       "\n",
       "    .dataframe thead th {\n",
       "        text-align: right;\n",
       "    }\n",
       "</style>\n",
       "<table border=\"1\" class=\"dataframe\">\n",
       "  <thead>\n",
       "    <tr style=\"text-align: right;\">\n",
       "      <th></th>\n",
       "      <th>port_name</th>\n",
       "      <th>port_code</th>\n",
       "    </tr>\n",
       "  </thead>\n",
       "  <tbody>\n",
       "    <tr>\n",
       "      <th>29</th>\n",
       "      <td>Eastport</td>\n",
       "      <td>3302</td>\n",
       "    </tr>\n",
       "    <tr>\n",
       "      <th>217</th>\n",
       "      <td>Eastport</td>\n",
       "      <td>103</td>\n",
       "    </tr>\n",
       "  </tbody>\n",
       "</table>\n",
       "</div>"
      ],
      "text/plain": [
       "    port_name  port_code\n",
       "29   Eastport       3302\n",
       "217  Eastport        103"
      ]
     },
     "execution_count": 153,
     "metadata": {},
     "output_type": "execute_result"
    }
   ],
   "source": [
    "diff= data[['port_name' , 'port_code']].drop_duplicates()\n",
    "diff[diff['port_name'].duplicated(keep = False)] "
   ]
  },
  {
   "cell_type": "code",
   "execution_count": 154,
   "metadata": {},
   "outputs": [
    {
     "data": {
      "text/html": [
       "<div>\n",
       "<style scoped>\n",
       "    .dataframe tbody tr th:only-of-type {\n",
       "        vertical-align: middle;\n",
       "    }\n",
       "\n",
       "    .dataframe tbody tr th {\n",
       "        vertical-align: top;\n",
       "    }\n",
       "\n",
       "    .dataframe thead th {\n",
       "        text-align: right;\n",
       "    }\n",
       "</style>\n",
       "<table border=\"1\" class=\"dataframe\">\n",
       "  <thead>\n",
       "    <tr style=\"text-align: right;\">\n",
       "      <th></th>\n",
       "      <th>port_name</th>\n",
       "      <th>state</th>\n",
       "      <th>port_code</th>\n",
       "      <th>border</th>\n",
       "      <th>date</th>\n",
       "      <th>measure</th>\n",
       "      <th>value</th>\n",
       "      <th>location</th>\n",
       "    </tr>\n",
       "  </thead>\n",
       "  <tbody>\n",
       "    <tr>\n",
       "      <th>29</th>\n",
       "      <td>Eastport</td>\n",
       "      <td>Idaho</td>\n",
       "      <td>3302</td>\n",
       "      <td>US-Canada Border</td>\n",
       "      <td>2019-03-01</td>\n",
       "      <td>Trains</td>\n",
       "      <td>101</td>\n",
       "      <td>POINT (-116.18027999999998 48.99944)</td>\n",
       "    </tr>\n",
       "    <tr>\n",
       "      <th>41</th>\n",
       "      <td>Eastport</td>\n",
       "      <td>Idaho</td>\n",
       "      <td>3302</td>\n",
       "      <td>US-Canada Border</td>\n",
       "      <td>2019-03-01</td>\n",
       "      <td>Pedestrians</td>\n",
       "      <td>200</td>\n",
       "      <td>POINT (-116.18027999999998 48.99944)</td>\n",
       "    </tr>\n",
       "    <tr>\n",
       "      <th>129</th>\n",
       "      <td>Eastport</td>\n",
       "      <td>Idaho</td>\n",
       "      <td>3302</td>\n",
       "      <td>US-Canada Border</td>\n",
       "      <td>2019-03-01</td>\n",
       "      <td>Train Passengers</td>\n",
       "      <td>200</td>\n",
       "      <td>POINT (-116.18027999999998 48.99944)</td>\n",
       "    </tr>\n",
       "    <tr>\n",
       "      <th>217</th>\n",
       "      <td>Eastport</td>\n",
       "      <td>Maine</td>\n",
       "      <td>103</td>\n",
       "      <td>US-Canada Border</td>\n",
       "      <td>2019-03-01</td>\n",
       "      <td>Trucks</td>\n",
       "      <td>165</td>\n",
       "      <td>POINT (-66.99387 44.90357)</td>\n",
       "    </tr>\n",
       "    <tr>\n",
       "      <th>249</th>\n",
       "      <td>Eastport</td>\n",
       "      <td>Maine</td>\n",
       "      <td>103</td>\n",
       "      <td>US-Canada Border</td>\n",
       "      <td>2019-03-01</td>\n",
       "      <td>Pedestrians</td>\n",
       "      <td>3</td>\n",
       "      <td>POINT (-66.99387 44.90357)</td>\n",
       "    </tr>\n",
       "    <tr>\n",
       "      <th>...</th>\n",
       "      <td>...</td>\n",
       "      <td>...</td>\n",
       "      <td>...</td>\n",
       "      <td>...</td>\n",
       "      <td>...</td>\n",
       "      <td>...</td>\n",
       "      <td>...</td>\n",
       "      <td>...</td>\n",
       "    </tr>\n",
       "    <tr>\n",
       "      <th>346152</th>\n",
       "      <td>Eastport</td>\n",
       "      <td>Idaho</td>\n",
       "      <td>3302</td>\n",
       "      <td>US-Canada Border</td>\n",
       "      <td>1996-01-01</td>\n",
       "      <td>Truck Containers Empty</td>\n",
       "      <td>26</td>\n",
       "      <td>POINT (-116.17999999999999 49)</td>\n",
       "    </tr>\n",
       "    <tr>\n",
       "      <th>346158</th>\n",
       "      <td>Eastport</td>\n",
       "      <td>Idaho</td>\n",
       "      <td>3302</td>\n",
       "      <td>US-Canada Border</td>\n",
       "      <td>1996-01-01</td>\n",
       "      <td>Rail Containers Empty</td>\n",
       "      <td>101</td>\n",
       "      <td>POINT (-116.17999999999999 49)</td>\n",
       "    </tr>\n",
       "    <tr>\n",
       "      <th>346282</th>\n",
       "      <td>Eastport</td>\n",
       "      <td>Idaho</td>\n",
       "      <td>3302</td>\n",
       "      <td>US-Canada Border</td>\n",
       "      <td>1996-01-01</td>\n",
       "      <td>Pedestrians</td>\n",
       "      <td>160</td>\n",
       "      <td>POINT (-116.17999999999999 49)</td>\n",
       "    </tr>\n",
       "    <tr>\n",
       "      <th>346445</th>\n",
       "      <td>Eastport</td>\n",
       "      <td>Idaho</td>\n",
       "      <td>3302</td>\n",
       "      <td>US-Canada Border</td>\n",
       "      <td>1996-01-01</td>\n",
       "      <td>Truck Containers Full</td>\n",
       "      <td>3250</td>\n",
       "      <td>POINT (-116.17999999999999 49)</td>\n",
       "    </tr>\n",
       "    <tr>\n",
       "      <th>346534</th>\n",
       "      <td>Eastport</td>\n",
       "      <td>Idaho</td>\n",
       "      <td>3302</td>\n",
       "      <td>US-Canada Border</td>\n",
       "      <td>1996-01-01</td>\n",
       "      <td>Personal Vehicles</td>\n",
       "      <td>3578</td>\n",
       "      <td>POINT (-116.17999999999999 49)</td>\n",
       "    </tr>\n",
       "  </tbody>\n",
       "</table>\n",
       "<p>5541 rows × 8 columns</p>\n",
       "</div>"
      ],
      "text/plain": [
       "       port_name  state  port_code            border       date  \\\n",
       "29      Eastport  Idaho       3302  US-Canada Border 2019-03-01   \n",
       "41      Eastport  Idaho       3302  US-Canada Border 2019-03-01   \n",
       "129     Eastport  Idaho       3302  US-Canada Border 2019-03-01   \n",
       "217     Eastport  Maine        103  US-Canada Border 2019-03-01   \n",
       "249     Eastport  Maine        103  US-Canada Border 2019-03-01   \n",
       "...          ...    ...        ...               ...        ...   \n",
       "346152  Eastport  Idaho       3302  US-Canada Border 1996-01-01   \n",
       "346158  Eastport  Idaho       3302  US-Canada Border 1996-01-01   \n",
       "346282  Eastport  Idaho       3302  US-Canada Border 1996-01-01   \n",
       "346445  Eastport  Idaho       3302  US-Canada Border 1996-01-01   \n",
       "346534  Eastport  Idaho       3302  US-Canada Border 1996-01-01   \n",
       "\n",
       "                       measure  value                              location  \n",
       "29                      Trains    101  POINT (-116.18027999999998 48.99944)  \n",
       "41                 Pedestrians    200  POINT (-116.18027999999998 48.99944)  \n",
       "129           Train Passengers    200  POINT (-116.18027999999998 48.99944)  \n",
       "217                     Trucks    165            POINT (-66.99387 44.90357)  \n",
       "249                Pedestrians      3            POINT (-66.99387 44.90357)  \n",
       "...                        ...    ...                                   ...  \n",
       "346152  Truck Containers Empty     26        POINT (-116.17999999999999 49)  \n",
       "346158   Rail Containers Empty    101        POINT (-116.17999999999999 49)  \n",
       "346282             Pedestrians    160        POINT (-116.17999999999999 49)  \n",
       "346445   Truck Containers Full   3250        POINT (-116.17999999999999 49)  \n",
       "346534       Personal Vehicles   3578        POINT (-116.17999999999999 49)  \n",
       "\n",
       "[5541 rows x 8 columns]"
      ]
     },
     "execution_count": 154,
     "metadata": {},
     "output_type": "execute_result"
    }
   ],
   "source": [
    "data.loc[(data.port_code == 103) | (data.port_code == 3302)]"
   ]
  },
  {
   "cell_type": "code",
   "execution_count": 155,
   "metadata": {},
   "outputs": [],
   "source": [
    "data.loc[(data['port_name'] == 'Eastport') & (data['state'] == 'Maine'), 'port_name'] = 'Eastport Maine' \n",
    "# Rename Eastport located in Maine to 'Eastport Maine' to avoid confusion\n"
   ]
  },
  {
   "cell_type": "code",
   "execution_count": 156,
   "metadata": {
    "scrolled": true
   },
   "outputs": [
    {
     "data": {
      "text/html": [
       "<div>\n",
       "<style scoped>\n",
       "    .dataframe tbody tr th:only-of-type {\n",
       "        vertical-align: middle;\n",
       "    }\n",
       "\n",
       "    .dataframe tbody tr th {\n",
       "        vertical-align: top;\n",
       "    }\n",
       "\n",
       "    .dataframe thead th {\n",
       "        text-align: right;\n",
       "    }\n",
       "</style>\n",
       "<table border=\"1\" class=\"dataframe\">\n",
       "  <thead>\n",
       "    <tr style=\"text-align: right;\">\n",
       "      <th></th>\n",
       "      <th>port_name</th>\n",
       "      <th>state</th>\n",
       "      <th>port_code</th>\n",
       "      <th>border</th>\n",
       "      <th>date</th>\n",
       "      <th>measure</th>\n",
       "      <th>value</th>\n",
       "      <th>location</th>\n",
       "    </tr>\n",
       "  </thead>\n",
       "  <tbody>\n",
       "    <tr>\n",
       "      <th>29</th>\n",
       "      <td>Eastport</td>\n",
       "      <td>Idaho</td>\n",
       "      <td>3302</td>\n",
       "      <td>US-Canada Border</td>\n",
       "      <td>2019-03-01</td>\n",
       "      <td>Trains</td>\n",
       "      <td>101</td>\n",
       "      <td>POINT (-116.18027999999998 48.99944)</td>\n",
       "    </tr>\n",
       "    <tr>\n",
       "      <th>41</th>\n",
       "      <td>Eastport</td>\n",
       "      <td>Idaho</td>\n",
       "      <td>3302</td>\n",
       "      <td>US-Canada Border</td>\n",
       "      <td>2019-03-01</td>\n",
       "      <td>Pedestrians</td>\n",
       "      <td>200</td>\n",
       "      <td>POINT (-116.18027999999998 48.99944)</td>\n",
       "    </tr>\n",
       "    <tr>\n",
       "      <th>129</th>\n",
       "      <td>Eastport</td>\n",
       "      <td>Idaho</td>\n",
       "      <td>3302</td>\n",
       "      <td>US-Canada Border</td>\n",
       "      <td>2019-03-01</td>\n",
       "      <td>Train Passengers</td>\n",
       "      <td>200</td>\n",
       "      <td>POINT (-116.18027999999998 48.99944)</td>\n",
       "    </tr>\n",
       "    <tr>\n",
       "      <th>217</th>\n",
       "      <td>Eastport Maine</td>\n",
       "      <td>Maine</td>\n",
       "      <td>103</td>\n",
       "      <td>US-Canada Border</td>\n",
       "      <td>2019-03-01</td>\n",
       "      <td>Trucks</td>\n",
       "      <td>165</td>\n",
       "      <td>POINT (-66.99387 44.90357)</td>\n",
       "    </tr>\n",
       "    <tr>\n",
       "      <th>249</th>\n",
       "      <td>Eastport Maine</td>\n",
       "      <td>Maine</td>\n",
       "      <td>103</td>\n",
       "      <td>US-Canada Border</td>\n",
       "      <td>2019-03-01</td>\n",
       "      <td>Pedestrians</td>\n",
       "      <td>3</td>\n",
       "      <td>POINT (-66.99387 44.90357)</td>\n",
       "    </tr>\n",
       "    <tr>\n",
       "      <th>...</th>\n",
       "      <td>...</td>\n",
       "      <td>...</td>\n",
       "      <td>...</td>\n",
       "      <td>...</td>\n",
       "      <td>...</td>\n",
       "      <td>...</td>\n",
       "      <td>...</td>\n",
       "      <td>...</td>\n",
       "    </tr>\n",
       "    <tr>\n",
       "      <th>346152</th>\n",
       "      <td>Eastport</td>\n",
       "      <td>Idaho</td>\n",
       "      <td>3302</td>\n",
       "      <td>US-Canada Border</td>\n",
       "      <td>1996-01-01</td>\n",
       "      <td>Truck Containers Empty</td>\n",
       "      <td>26</td>\n",
       "      <td>POINT (-116.17999999999999 49)</td>\n",
       "    </tr>\n",
       "    <tr>\n",
       "      <th>346158</th>\n",
       "      <td>Eastport</td>\n",
       "      <td>Idaho</td>\n",
       "      <td>3302</td>\n",
       "      <td>US-Canada Border</td>\n",
       "      <td>1996-01-01</td>\n",
       "      <td>Rail Containers Empty</td>\n",
       "      <td>101</td>\n",
       "      <td>POINT (-116.17999999999999 49)</td>\n",
       "    </tr>\n",
       "    <tr>\n",
       "      <th>346282</th>\n",
       "      <td>Eastport</td>\n",
       "      <td>Idaho</td>\n",
       "      <td>3302</td>\n",
       "      <td>US-Canada Border</td>\n",
       "      <td>1996-01-01</td>\n",
       "      <td>Pedestrians</td>\n",
       "      <td>160</td>\n",
       "      <td>POINT (-116.17999999999999 49)</td>\n",
       "    </tr>\n",
       "    <tr>\n",
       "      <th>346445</th>\n",
       "      <td>Eastport</td>\n",
       "      <td>Idaho</td>\n",
       "      <td>3302</td>\n",
       "      <td>US-Canada Border</td>\n",
       "      <td>1996-01-01</td>\n",
       "      <td>Truck Containers Full</td>\n",
       "      <td>3250</td>\n",
       "      <td>POINT (-116.17999999999999 49)</td>\n",
       "    </tr>\n",
       "    <tr>\n",
       "      <th>346534</th>\n",
       "      <td>Eastport</td>\n",
       "      <td>Idaho</td>\n",
       "      <td>3302</td>\n",
       "      <td>US-Canada Border</td>\n",
       "      <td>1996-01-01</td>\n",
       "      <td>Personal Vehicles</td>\n",
       "      <td>3578</td>\n",
       "      <td>POINT (-116.17999999999999 49)</td>\n",
       "    </tr>\n",
       "  </tbody>\n",
       "</table>\n",
       "<p>5541 rows × 8 columns</p>\n",
       "</div>"
      ],
      "text/plain": [
       "             port_name  state  port_code            border       date  \\\n",
       "29            Eastport  Idaho       3302  US-Canada Border 2019-03-01   \n",
       "41            Eastport  Idaho       3302  US-Canada Border 2019-03-01   \n",
       "129           Eastport  Idaho       3302  US-Canada Border 2019-03-01   \n",
       "217     Eastport Maine  Maine        103  US-Canada Border 2019-03-01   \n",
       "249     Eastport Maine  Maine        103  US-Canada Border 2019-03-01   \n",
       "...                ...    ...        ...               ...        ...   \n",
       "346152        Eastport  Idaho       3302  US-Canada Border 1996-01-01   \n",
       "346158        Eastport  Idaho       3302  US-Canada Border 1996-01-01   \n",
       "346282        Eastport  Idaho       3302  US-Canada Border 1996-01-01   \n",
       "346445        Eastport  Idaho       3302  US-Canada Border 1996-01-01   \n",
       "346534        Eastport  Idaho       3302  US-Canada Border 1996-01-01   \n",
       "\n",
       "                       measure  value                              location  \n",
       "29                      Trains    101  POINT (-116.18027999999998 48.99944)  \n",
       "41                 Pedestrians    200  POINT (-116.18027999999998 48.99944)  \n",
       "129           Train Passengers    200  POINT (-116.18027999999998 48.99944)  \n",
       "217                     Trucks    165            POINT (-66.99387 44.90357)  \n",
       "249                Pedestrians      3            POINT (-66.99387 44.90357)  \n",
       "...                        ...    ...                                   ...  \n",
       "346152  Truck Containers Empty     26        POINT (-116.17999999999999 49)  \n",
       "346158   Rail Containers Empty    101        POINT (-116.17999999999999 49)  \n",
       "346282             Pedestrians    160        POINT (-116.17999999999999 49)  \n",
       "346445   Truck Containers Full   3250        POINT (-116.17999999999999 49)  \n",
       "346534       Personal Vehicles   3578        POINT (-116.17999999999999 49)  \n",
       "\n",
       "[5541 rows x 8 columns]"
      ]
     },
     "execution_count": 156,
     "metadata": {},
     "output_type": "execute_result"
    }
   ],
   "source": [
    "data.loc[(data.port_code == 103) | (data.port_code == 3302)]"
   ]
  },
  {
   "cell_type": "code",
   "execution_count": 157,
   "metadata": {},
   "outputs": [
    {
     "data": {
      "text/plain": [
       "117"
      ]
     },
     "execution_count": 157,
     "metadata": {},
     "output_type": "execute_result"
    }
   ],
   "source": [
    "data['port_code'].nunique()"
   ]
  },
  {
   "cell_type": "code",
   "execution_count": 158,
   "metadata": {},
   "outputs": [
    {
     "data": {
      "text/plain": [
       "117"
      ]
     },
     "execution_count": 158,
     "metadata": {},
     "output_type": "execute_result"
    }
   ],
   "source": [
    "data['port_name'].nunique() # port code and port name are now same"
   ]
  },
  {
   "cell_type": "code",
   "execution_count": 159,
   "metadata": {},
   "outputs": [
    {
     "data": {
      "text/html": [
       "<div>\n",
       "<style scoped>\n",
       "    .dataframe tbody tr th:only-of-type {\n",
       "        vertical-align: middle;\n",
       "    }\n",
       "\n",
       "    .dataframe tbody tr th {\n",
       "        vertical-align: top;\n",
       "    }\n",
       "\n",
       "    .dataframe thead th {\n",
       "        text-align: right;\n",
       "    }\n",
       "</style>\n",
       "<table border=\"1\" class=\"dataframe\">\n",
       "  <thead>\n",
       "    <tr style=\"text-align: right;\">\n",
       "      <th></th>\n",
       "      <th>port_name</th>\n",
       "      <th>state</th>\n",
       "      <th>port_code</th>\n",
       "      <th>border</th>\n",
       "      <th>date</th>\n",
       "      <th>measure</th>\n",
       "      <th>value</th>\n",
       "      <th>location</th>\n",
       "      <th>year</th>\n",
       "      <th>month</th>\n",
       "      <th>weekdays</th>\n",
       "      <th>weekday</th>\n",
       "    </tr>\n",
       "  </thead>\n",
       "  <tbody>\n",
       "    <tr>\n",
       "      <th>0</th>\n",
       "      <td>Calexico East</td>\n",
       "      <td>California</td>\n",
       "      <td>2507</td>\n",
       "      <td>US-Mexico Border</td>\n",
       "      <td>2019-03-01</td>\n",
       "      <td>Trucks</td>\n",
       "      <td>34447</td>\n",
       "      <td>POINT (-115.48433000000001 32.67524)</td>\n",
       "      <td>2019</td>\n",
       "      <td>3</td>\n",
       "      <td>4</td>\n",
       "      <td>Friday</td>\n",
       "    </tr>\n",
       "    <tr>\n",
       "      <th>1</th>\n",
       "      <td>Van Buren</td>\n",
       "      <td>Maine</td>\n",
       "      <td>108</td>\n",
       "      <td>US-Canada Border</td>\n",
       "      <td>2019-03-01</td>\n",
       "      <td>Rail Containers Full</td>\n",
       "      <td>428</td>\n",
       "      <td>POINT (-67.94271 47.16207)</td>\n",
       "      <td>2019</td>\n",
       "      <td>3</td>\n",
       "      <td>4</td>\n",
       "      <td>Friday</td>\n",
       "    </tr>\n",
       "    <tr>\n",
       "      <th>2</th>\n",
       "      <td>Otay Mesa</td>\n",
       "      <td>California</td>\n",
       "      <td>2506</td>\n",
       "      <td>US-Mexico Border</td>\n",
       "      <td>2019-03-01</td>\n",
       "      <td>Trucks</td>\n",
       "      <td>81217</td>\n",
       "      <td>POINT (-117.05333 32.57333)</td>\n",
       "      <td>2019</td>\n",
       "      <td>3</td>\n",
       "      <td>4</td>\n",
       "      <td>Friday</td>\n",
       "    </tr>\n",
       "    <tr>\n",
       "      <th>3</th>\n",
       "      <td>Nogales</td>\n",
       "      <td>Arizona</td>\n",
       "      <td>2604</td>\n",
       "      <td>US-Mexico Border</td>\n",
       "      <td>2019-03-01</td>\n",
       "      <td>Trains</td>\n",
       "      <td>62</td>\n",
       "      <td>POINT (-110.93361 31.340279999999996)</td>\n",
       "      <td>2019</td>\n",
       "      <td>3</td>\n",
       "      <td>4</td>\n",
       "      <td>Friday</td>\n",
       "    </tr>\n",
       "    <tr>\n",
       "      <th>4</th>\n",
       "      <td>Trout River</td>\n",
       "      <td>New York</td>\n",
       "      <td>715</td>\n",
       "      <td>US-Canada Border</td>\n",
       "      <td>2019-03-01</td>\n",
       "      <td>Personal Vehicle Passengers</td>\n",
       "      <td>16377</td>\n",
       "      <td>POINT (-73.44253 44.990010000000005)</td>\n",
       "      <td>2019</td>\n",
       "      <td>3</td>\n",
       "      <td>4</td>\n",
       "      <td>Friday</td>\n",
       "    </tr>\n",
       "    <tr>\n",
       "      <th>...</th>\n",
       "      <td>...</td>\n",
       "      <td>...</td>\n",
       "      <td>...</td>\n",
       "      <td>...</td>\n",
       "      <td>...</td>\n",
       "      <td>...</td>\n",
       "      <td>...</td>\n",
       "      <td>...</td>\n",
       "      <td>...</td>\n",
       "      <td>...</td>\n",
       "      <td>...</td>\n",
       "      <td>...</td>\n",
       "    </tr>\n",
       "    <tr>\n",
       "      <th>346728</th>\n",
       "      <td>Norton</td>\n",
       "      <td>Vermont</td>\n",
       "      <td>211</td>\n",
       "      <td>US-Canada Border</td>\n",
       "      <td>1996-01-01</td>\n",
       "      <td>Personal Vehicle Passengers</td>\n",
       "      <td>9119</td>\n",
       "      <td>POINT (-71.79 45.01)</td>\n",
       "      <td>1996</td>\n",
       "      <td>1</td>\n",
       "      <td>0</td>\n",
       "      <td>Monday</td>\n",
       "    </tr>\n",
       "    <tr>\n",
       "      <th>346729</th>\n",
       "      <td>Columbus</td>\n",
       "      <td>New Mexico</td>\n",
       "      <td>2406</td>\n",
       "      <td>US-Mexico Border</td>\n",
       "      <td>1996-01-01</td>\n",
       "      <td>Personal Vehicles</td>\n",
       "      <td>29486</td>\n",
       "      <td>POINT (-107.63 31.78)</td>\n",
       "      <td>1996</td>\n",
       "      <td>1</td>\n",
       "      <td>0</td>\n",
       "      <td>Monday</td>\n",
       "    </tr>\n",
       "    <tr>\n",
       "      <th>346730</th>\n",
       "      <td>Hansboro</td>\n",
       "      <td>North Dakota</td>\n",
       "      <td>3415</td>\n",
       "      <td>US-Canada Border</td>\n",
       "      <td>1996-01-01</td>\n",
       "      <td>Rail Containers Full</td>\n",
       "      <td>0</td>\n",
       "      <td>POINT (-99.35 49)</td>\n",
       "      <td>1996</td>\n",
       "      <td>1</td>\n",
       "      <td>0</td>\n",
       "      <td>Monday</td>\n",
       "    </tr>\n",
       "    <tr>\n",
       "      <th>346731</th>\n",
       "      <td>Calexico East</td>\n",
       "      <td>California</td>\n",
       "      <td>2507</td>\n",
       "      <td>US-Mexico Border</td>\n",
       "      <td>1996-01-01</td>\n",
       "      <td>Buses</td>\n",
       "      <td>0</td>\n",
       "      <td>POINT (-115.39 32.67)</td>\n",
       "      <td>1996</td>\n",
       "      <td>1</td>\n",
       "      <td>0</td>\n",
       "      <td>Monday</td>\n",
       "    </tr>\n",
       "    <tr>\n",
       "      <th>346732</th>\n",
       "      <td>Presidio</td>\n",
       "      <td>Texas</td>\n",
       "      <td>2403</td>\n",
       "      <td>US-Mexico Border</td>\n",
       "      <td>1996-01-01</td>\n",
       "      <td>Trucks</td>\n",
       "      <td>347</td>\n",
       "      <td>POINT (-104.39000000000001 29.56)</td>\n",
       "      <td>1996</td>\n",
       "      <td>1</td>\n",
       "      <td>0</td>\n",
       "      <td>Monday</td>\n",
       "    </tr>\n",
       "  </tbody>\n",
       "</table>\n",
       "<p>346733 rows × 12 columns</p>\n",
       "</div>"
      ],
      "text/plain": [
       "            port_name         state  port_code            border       date  \\\n",
       "0       Calexico East    California       2507  US-Mexico Border 2019-03-01   \n",
       "1           Van Buren         Maine        108  US-Canada Border 2019-03-01   \n",
       "2           Otay Mesa    California       2506  US-Mexico Border 2019-03-01   \n",
       "3             Nogales       Arizona       2604  US-Mexico Border 2019-03-01   \n",
       "4         Trout River      New York        715  US-Canada Border 2019-03-01   \n",
       "...               ...           ...        ...               ...        ...   \n",
       "346728         Norton       Vermont        211  US-Canada Border 1996-01-01   \n",
       "346729       Columbus    New Mexico       2406  US-Mexico Border 1996-01-01   \n",
       "346730       Hansboro  North Dakota       3415  US-Canada Border 1996-01-01   \n",
       "346731  Calexico East    California       2507  US-Mexico Border 1996-01-01   \n",
       "346732       Presidio         Texas       2403  US-Mexico Border 1996-01-01   \n",
       "\n",
       "                            measure  value  \\\n",
       "0                            Trucks  34447   \n",
       "1              Rail Containers Full    428   \n",
       "2                            Trucks  81217   \n",
       "3                            Trains     62   \n",
       "4       Personal Vehicle Passengers  16377   \n",
       "...                             ...    ...   \n",
       "346728  Personal Vehicle Passengers   9119   \n",
       "346729            Personal Vehicles  29486   \n",
       "346730         Rail Containers Full      0   \n",
       "346731                        Buses      0   \n",
       "346732                       Trucks    347   \n",
       "\n",
       "                                     location  year  month  weekdays weekday  \n",
       "0        POINT (-115.48433000000001 32.67524)  2019      3         4  Friday  \n",
       "1                  POINT (-67.94271 47.16207)  2019      3         4  Friday  \n",
       "2                 POINT (-117.05333 32.57333)  2019      3         4  Friday  \n",
       "3       POINT (-110.93361 31.340279999999996)  2019      3         4  Friday  \n",
       "4        POINT (-73.44253 44.990010000000005)  2019      3         4  Friday  \n",
       "...                                       ...   ...    ...       ...     ...  \n",
       "346728                   POINT (-71.79 45.01)  1996      1         0  Monday  \n",
       "346729                  POINT (-107.63 31.78)  1996      1         0  Monday  \n",
       "346730                      POINT (-99.35 49)  1996      1         0  Monday  \n",
       "346731                  POINT (-115.39 32.67)  1996      1         0  Monday  \n",
       "346732      POINT (-104.39000000000001 29.56)  1996      1         0  Monday  \n",
       "\n",
       "[346733 rows x 12 columns]"
      ]
     },
     "execution_count": 159,
     "metadata": {},
     "output_type": "execute_result"
    }
   ],
   "source": [
    "data['year'] = data.date.dt.year\n",
    "data['month'] = data.date.dt.month\n",
    "data['weekdays'] = data.date.dt.weekday\n",
    "data['weekday'] =  data.date.dt.weekday\n",
    "data['weekday'] = data ['weekday'].map ({ \n",
    "                      0: 'Monday',\n",
    "                      1: 'Tuesday',\n",
    "                      2: 'Wednesday',\n",
    "                      3: 'Thursday',\n",
    "                      4: 'Friday',\n",
    "                      5: 'Saturday',\n",
    "                      6: 'Sunday'\n",
    "                    }\n",
    "                  )\n",
    "data"
   ]
  },
  {
   "cell_type": "code",
   "execution_count": 188,
   "metadata": {},
   "outputs": [
    {
     "data": {
      "text/plain": [
       "<AxesSubplot:xlabel='border', ylabel='value'>"
      ]
     },
     "execution_count": 188,
     "metadata": {},
     "output_type": "execute_result"
    },
    {
     "data": {
      "image/png": "[encoded data removed]",
      "text/plain": [
       "<Figure size 432x288 with 1 Axes>"
      ]
     },
     "metadata": {
      "needs_background": "light"
     },
     "output_type": "display_data"
    }
   ],
   "source": [
    "#1) What are total passengers travelled accross bonders\n",
    "\n",
    "sns.barplot(x = 'border', y = 'value', data = data, estimator =sum)"
   ]
  },
  {
   "cell_type": "code",
   "execution_count": 160,
   "metadata": {},
   "outputs": [
    {
     "data": {
      "text/plain": [
       "array(['Trucks', 'Rail Containers Full', 'Trains',\n",
       "       'Personal Vehicle Passengers', 'Bus Passengers',\n",
       "       'Truck Containers Empty', 'Rail Containers Empty',\n",
       "       'Personal Vehicles', 'Buses', 'Truck Containers Full',\n",
       "       'Pedestrians', 'Train Passengers'], dtype=object)"
      ]
     },
     "execution_count": 160,
     "metadata": {},
     "output_type": "execute_result"
    }
   ],
   "source": [
    "data['measure'].unique()"
   ]
  },
  {
   "cell_type": "code",
   "execution_count": 161,
   "metadata": {},
   "outputs": [
    {
     "data": {
      "text/plain": [
       "array(['commercial_vehicle', 'gen_public_vehicle'], dtype=object)"
      ]
     },
     "execution_count": 161,
     "metadata": {},
     "output_type": "execute_result"
    }
   ],
   "source": [
    "gen_public =['Personal Vehicle Passengers','Bus Passengers','Personal Vehicles','Pedestrians','Train Passengers']\n",
    "data.loc[data['measure'].isin(gen_public),'vehicle_cat'] ='gen_public_vehicle'\n",
    "data.loc[~data['measure'].isin(gen_public),'vehicle_cat'] ='commercial_vehicle'\n",
    "data['vehicle_cat'].unique()"
   ]
  },
  {
   "cell_type": "code",
   "execution_count": 162,
   "metadata": {},
   "outputs": [
    {
     "data": {
      "text/html": [
       "<div>\n",
       "<style scoped>\n",
       "    .dataframe tbody tr th:only-of-type {\n",
       "        vertical-align: middle;\n",
       "    }\n",
       "\n",
       "    .dataframe tbody tr th {\n",
       "        vertical-align: top;\n",
       "    }\n",
       "\n",
       "    .dataframe thead th {\n",
       "        text-align: right;\n",
       "    }\n",
       "</style>\n",
       "<table border=\"1\" class=\"dataframe\">\n",
       "  <thead>\n",
       "    <tr style=\"text-align: right;\">\n",
       "      <th></th>\n",
       "      <th>port_name</th>\n",
       "      <th>state</th>\n",
       "      <th>port_code</th>\n",
       "      <th>border</th>\n",
       "      <th>date</th>\n",
       "      <th>measure</th>\n",
       "      <th>value</th>\n",
       "      <th>location</th>\n",
       "      <th>year</th>\n",
       "      <th>month</th>\n",
       "      <th>weekdays</th>\n",
       "      <th>weekday</th>\n",
       "      <th>vehicle_cat</th>\n",
       "    </tr>\n",
       "  </thead>\n",
       "  <tbody>\n",
       "    <tr>\n",
       "      <th>0</th>\n",
       "      <td>Calexico East</td>\n",
       "      <td>California</td>\n",
       "      <td>2507</td>\n",
       "      <td>US-Mexico Border</td>\n",
       "      <td>2019-03-01</td>\n",
       "      <td>Trucks</td>\n",
       "      <td>34447</td>\n",
       "      <td>POINT (-115.48433000000001 32.67524)</td>\n",
       "      <td>2019</td>\n",
       "      <td>3</td>\n",
       "      <td>4</td>\n",
       "      <td>Friday</td>\n",
       "      <td>commercial_vehicle</td>\n",
       "    </tr>\n",
       "    <tr>\n",
       "      <th>1</th>\n",
       "      <td>Van Buren</td>\n",
       "      <td>Maine</td>\n",
       "      <td>108</td>\n",
       "      <td>US-Canada Border</td>\n",
       "      <td>2019-03-01</td>\n",
       "      <td>Rail Containers Full</td>\n",
       "      <td>428</td>\n",
       "      <td>POINT (-67.94271 47.16207)</td>\n",
       "      <td>2019</td>\n",
       "      <td>3</td>\n",
       "      <td>4</td>\n",
       "      <td>Friday</td>\n",
       "      <td>commercial_vehicle</td>\n",
       "    </tr>\n",
       "    <tr>\n",
       "      <th>2</th>\n",
       "      <td>Otay Mesa</td>\n",
       "      <td>California</td>\n",
       "      <td>2506</td>\n",
       "      <td>US-Mexico Border</td>\n",
       "      <td>2019-03-01</td>\n",
       "      <td>Trucks</td>\n",
       "      <td>81217</td>\n",
       "      <td>POINT (-117.05333 32.57333)</td>\n",
       "      <td>2019</td>\n",
       "      <td>3</td>\n",
       "      <td>4</td>\n",
       "      <td>Friday</td>\n",
       "      <td>commercial_vehicle</td>\n",
       "    </tr>\n",
       "    <tr>\n",
       "      <th>3</th>\n",
       "      <td>Nogales</td>\n",
       "      <td>Arizona</td>\n",
       "      <td>2604</td>\n",
       "      <td>US-Mexico Border</td>\n",
       "      <td>2019-03-01</td>\n",
       "      <td>Trains</td>\n",
       "      <td>62</td>\n",
       "      <td>POINT (-110.93361 31.340279999999996)</td>\n",
       "      <td>2019</td>\n",
       "      <td>3</td>\n",
       "      <td>4</td>\n",
       "      <td>Friday</td>\n",
       "      <td>commercial_vehicle</td>\n",
       "    </tr>\n",
       "    <tr>\n",
       "      <th>4</th>\n",
       "      <td>Trout River</td>\n",
       "      <td>New York</td>\n",
       "      <td>715</td>\n",
       "      <td>US-Canada Border</td>\n",
       "      <td>2019-03-01</td>\n",
       "      <td>Personal Vehicle Passengers</td>\n",
       "      <td>16377</td>\n",
       "      <td>POINT (-73.44253 44.990010000000005)</td>\n",
       "      <td>2019</td>\n",
       "      <td>3</td>\n",
       "      <td>4</td>\n",
       "      <td>Friday</td>\n",
       "      <td>gen_public_vehicle</td>\n",
       "    </tr>\n",
       "    <tr>\n",
       "      <th>...</th>\n",
       "      <td>...</td>\n",
       "      <td>...</td>\n",
       "      <td>...</td>\n",
       "      <td>...</td>\n",
       "      <td>...</td>\n",
       "      <td>...</td>\n",
       "      <td>...</td>\n",
       "      <td>...</td>\n",
       "      <td>...</td>\n",
       "      <td>...</td>\n",
       "      <td>...</td>\n",
       "      <td>...</td>\n",
       "      <td>...</td>\n",
       "    </tr>\n",
       "    <tr>\n",
       "      <th>346728</th>\n",
       "      <td>Norton</td>\n",
       "      <td>Vermont</td>\n",
       "      <td>211</td>\n",
       "      <td>US-Canada Border</td>\n",
       "      <td>1996-01-01</td>\n",
       "      <td>Personal Vehicle Passengers</td>\n",
       "      <td>9119</td>\n",
       "      <td>POINT (-71.79 45.01)</td>\n",
       "      <td>1996</td>\n",
       "      <td>1</td>\n",
       "      <td>0</td>\n",
       "      <td>Monday</td>\n",
       "      <td>gen_public_vehicle</td>\n",
       "    </tr>\n",
       "    <tr>\n",
       "      <th>346729</th>\n",
       "      <td>Columbus</td>\n",
       "      <td>New Mexico</td>\n",
       "      <td>2406</td>\n",
       "      <td>US-Mexico Border</td>\n",
       "      <td>1996-01-01</td>\n",
       "      <td>Personal Vehicles</td>\n",
       "      <td>29486</td>\n",
       "      <td>POINT (-107.63 31.78)</td>\n",
       "      <td>1996</td>\n",
       "      <td>1</td>\n",
       "      <td>0</td>\n",
       "      <td>Monday</td>\n",
       "      <td>gen_public_vehicle</td>\n",
       "    </tr>\n",
       "    <tr>\n",
       "      <th>346730</th>\n",
       "      <td>Hansboro</td>\n",
       "      <td>North Dakota</td>\n",
       "      <td>3415</td>\n",
       "      <td>US-Canada Border</td>\n",
       "      <td>1996-01-01</td>\n",
       "      <td>Rail Containers Full</td>\n",
       "      <td>0</td>\n",
       "      <td>POINT (-99.35 49)</td>\n",
       "      <td>1996</td>\n",
       "      <td>1</td>\n",
       "      <td>0</td>\n",
       "      <td>Monday</td>\n",
       "      <td>commercial_vehicle</td>\n",
       "    </tr>\n",
       "    <tr>\n",
       "      <th>346731</th>\n",
       "      <td>Calexico East</td>\n",
       "      <td>California</td>\n",
       "      <td>2507</td>\n",
       "      <td>US-Mexico Border</td>\n",
       "      <td>1996-01-01</td>\n",
       "      <td>Buses</td>\n",
       "      <td>0</td>\n",
       "      <td>POINT (-115.39 32.67)</td>\n",
       "      <td>1996</td>\n",
       "      <td>1</td>\n",
       "      <td>0</td>\n",
       "      <td>Monday</td>\n",
       "      <td>commercial_vehicle</td>\n",
       "    </tr>\n",
       "    <tr>\n",
       "      <th>346732</th>\n",
       "      <td>Presidio</td>\n",
       "      <td>Texas</td>\n",
       "      <td>2403</td>\n",
       "      <td>US-Mexico Border</td>\n",
       "      <td>1996-01-01</td>\n",
       "      <td>Trucks</td>\n",
       "      <td>347</td>\n",
       "      <td>POINT (-104.39000000000001 29.56)</td>\n",
       "      <td>1996</td>\n",
       "      <td>1</td>\n",
       "      <td>0</td>\n",
       "      <td>Monday</td>\n",
       "      <td>commercial_vehicle</td>\n",
       "    </tr>\n",
       "  </tbody>\n",
       "</table>\n",
       "<p>346733 rows × 13 columns</p>\n",
       "</div>"
      ],
      "text/plain": [
       "            port_name         state  port_code            border       date  \\\n",
       "0       Calexico East    California       2507  US-Mexico Border 2019-03-01   \n",
       "1           Van Buren         Maine        108  US-Canada Border 2019-03-01   \n",
       "2           Otay Mesa    California       2506  US-Mexico Border 2019-03-01   \n",
       "3             Nogales       Arizona       2604  US-Mexico Border 2019-03-01   \n",
       "4         Trout River      New York        715  US-Canada Border 2019-03-01   \n",
       "...               ...           ...        ...               ...        ...   \n",
       "346728         Norton       Vermont        211  US-Canada Border 1996-01-01   \n",
       "346729       Columbus    New Mexico       2406  US-Mexico Border 1996-01-01   \n",
       "346730       Hansboro  North Dakota       3415  US-Canada Border 1996-01-01   \n",
       "346731  Calexico East    California       2507  US-Mexico Border 1996-01-01   \n",
       "346732       Presidio         Texas       2403  US-Mexico Border 1996-01-01   \n",
       "\n",
       "                            measure  value  \\\n",
       "0                            Trucks  34447   \n",
       "1              Rail Containers Full    428   \n",
       "2                            Trucks  81217   \n",
       "3                            Trains     62   \n",
       "4       Personal Vehicle Passengers  16377   \n",
       "...                             ...    ...   \n",
       "346728  Personal Vehicle Passengers   9119   \n",
       "346729            Personal Vehicles  29486   \n",
       "346730         Rail Containers Full      0   \n",
       "346731                        Buses      0   \n",
       "346732                       Trucks    347   \n",
       "\n",
       "                                     location  year  month  weekdays weekday  \\\n",
       "0        POINT (-115.48433000000001 32.67524)  2019      3         4  Friday   \n",
       "1                  POINT (-67.94271 47.16207)  2019      3         4  Friday   \n",
       "2                 POINT (-117.05333 32.57333)  2019      3         4  Friday   \n",
       "3       POINT (-110.93361 31.340279999999996)  2019      3         4  Friday   \n",
       "4        POINT (-73.44253 44.990010000000005)  2019      3         4  Friday   \n",
       "...                                       ...   ...    ...       ...     ...   \n",
       "346728                   POINT (-71.79 45.01)  1996      1         0  Monday   \n",
       "346729                  POINT (-107.63 31.78)  1996      1         0  Monday   \n",
       "346730                      POINT (-99.35 49)  1996      1         0  Monday   \n",
       "346731                  POINT (-115.39 32.67)  1996      1         0  Monday   \n",
       "346732      POINT (-104.39000000000001 29.56)  1996      1         0  Monday   \n",
       "\n",
       "               vehicle_cat  \n",
       "0       commercial_vehicle  \n",
       "1       commercial_vehicle  \n",
       "2       commercial_vehicle  \n",
       "3       commercial_vehicle  \n",
       "4       gen_public_vehicle  \n",
       "...                    ...  \n",
       "346728  gen_public_vehicle  \n",
       "346729  gen_public_vehicle  \n",
       "346730  commercial_vehicle  \n",
       "346731  commercial_vehicle  \n",
       "346732  commercial_vehicle  \n",
       "\n",
       "[346733 rows x 13 columns]"
      ]
     },
     "execution_count": 162,
     "metadata": {},
     "output_type": "execute_result"
    }
   ],
   "source": [
    "data"
   ]
  },
  {
   "cell_type": "code",
   "execution_count": 163,
   "metadata": {},
   "outputs": [
    {
     "data": {
      "image/png": "[encoded data removed]",
      "text/plain": [
       "<Figure size 432x288 with 1 Axes>"
      ]
     },
     "metadata": {
      "needs_background": "light"
     },
     "output_type": "display_data"
    }
   ],
   "source": [
    "ax = sns.boxplot(x = 'vehicle_cat' , y = 'year', hue = 'border', data = data )"
   ]
  },
  {
   "cell_type": "code",
   "execution_count": 169,
   "metadata": {},
   "outputs": [
    {
     "data": {
      "text/plain": [
       "<seaborn.axisgrid.FacetGrid at 0x22e71cf3c88>"
      ]
     },
     "execution_count": 169,
     "metadata": {},
     "output_type": "execute_result"
    },
    {
     "data": {
      "text/plain": [
       "<Figure size 864x720 with 0 Axes>"
      ]
     },
     "metadata": {},
     "output_type": "display_data"
    },
    {
     "data": {
      "image/png": "[encoded data removed]",
      "text/plain": [
       "<Figure size 3240x216 with 15 Axes>"
      ]
     },
     "metadata": {
      "needs_background": "light"
     },
     "output_type": "display_data"
    }
   ],
   "source": [
    "plt.figure(figsize=(12,10))\n",
    "facet = sns.FacetGrid(data, col = 'state')\n",
    "facet.map(sns.distplot, 'month')"
   ]
  },
  {
   "cell_type": "code",
   "execution_count": 172,
   "metadata": {},
   "outputs": [
    {
     "data": {
      "text/plain": [
       "<AxesSubplot:xlabel='border', ylabel='value'>"
      ]
     },
     "execution_count": 172,
     "metadata": {},
     "output_type": "execute_result"
    },
    {
     "data": {
      "image/png": "[encoded data removed]",
      "text/plain": [
       "<Figure size 1296x864 with 1 Axes>"
      ]
     },
     "metadata": {
      "needs_background": "light"
     },
     "output_type": "display_data"
    }
   ],
   "source": [
    "#2) What are total general public travelled accross bonders year vise\n",
    "plt.figure(figsize=(18,12))\n",
    "sns.barplot(data=data[data.vehicle_cat == 'gen_public_vehicle'], x='border',y='value' , hue = 'year' ,estimator = sum)"
   ]
  },
  {
   "cell_type": "code",
   "execution_count": 173,
   "metadata": {},
   "outputs": [
    {
     "data": {
      "text/plain": [
       "<AxesSubplot:xlabel='border', ylabel='value'>"
      ]
     },
     "execution_count": 173,
     "metadata": {},
     "output_type": "execute_result"
    },
    {
     "data": {
      "image/png": "[encoded data removed]",
      "text/plain": [
       "<Figure size 1296x864 with 1 Axes>"
      ]
     },
     "metadata": {
      "needs_background": "light"
     },
     "output_type": "display_data"
    }
   ],
   "source": [
    "#3) What are total commercial_vehicle travelled accross bonders year vise \n",
    "plt.figure(figsize=(18,12))\n",
    "sns.barplot(data=data[data.vehicle_cat =='commercial_vehicle'], x='border',y='value', hue = 'year',estimator = sum)"
   ]
  },
  {
   "cell_type": "code",
   "execution_count": 189,
   "metadata": {},
   "outputs": [
    {
     "data": {
      "text/html": [
       "<div>\n",
       "<style scoped>\n",
       "    .dataframe tbody tr th:only-of-type {\n",
       "        vertical-align: middle;\n",
       "    }\n",
       "\n",
       "    .dataframe tbody tr th {\n",
       "        vertical-align: top;\n",
       "    }\n",
       "\n",
       "    .dataframe thead th {\n",
       "        text-align: right;\n",
       "    }\n",
       "</style>\n",
       "<table border=\"1\" class=\"dataframe\">\n",
       "  <thead>\n",
       "    <tr style=\"text-align: right;\">\n",
       "      <th></th>\n",
       "      <th>border</th>\n",
       "      <th>measure</th>\n",
       "      <th>value</th>\n",
       "    </tr>\n",
       "  </thead>\n",
       "  <tbody>\n",
       "    <tr>\n",
       "      <th>0</th>\n",
       "      <td>US-Canada Border</td>\n",
       "      <td>Bus Passengers</td>\n",
       "      <td>74327495</td>\n",
       "    </tr>\n",
       "    <tr>\n",
       "      <th>1</th>\n",
       "      <td>US-Canada Border</td>\n",
       "      <td>Pedestrians</td>\n",
       "      <td>12968574</td>\n",
       "    </tr>\n",
       "    <tr>\n",
       "      <th>2</th>\n",
       "      <td>US-Canada Border</td>\n",
       "      <td>Personal Vehicle Passengers</td>\n",
       "      <td>1538658810</td>\n",
       "    </tr>\n",
       "    <tr>\n",
       "      <th>3</th>\n",
       "      <td>US-Canada Border</td>\n",
       "      <td>Personal Vehicles</td>\n",
       "      <td>736044372</td>\n",
       "    </tr>\n",
       "    <tr>\n",
       "      <th>4</th>\n",
       "      <td>US-Canada Border</td>\n",
       "      <td>Train Passengers</td>\n",
       "      <td>5909597</td>\n",
       "    </tr>\n",
       "    <tr>\n",
       "      <th>5</th>\n",
       "      <td>US-Mexico Border</td>\n",
       "      <td>Bus Passengers</td>\n",
       "      <td>68003376</td>\n",
       "    </tr>\n",
       "    <tr>\n",
       "      <th>6</th>\n",
       "      <td>US-Mexico Border</td>\n",
       "      <td>Pedestrians</td>\n",
       "      <td>1031249540</td>\n",
       "    </tr>\n",
       "    <tr>\n",
       "      <th>7</th>\n",
       "      <td>US-Mexico Border</td>\n",
       "      <td>Personal Vehicle Passengers</td>\n",
       "      <td>3918732465</td>\n",
       "    </tr>\n",
       "    <tr>\n",
       "      <th>8</th>\n",
       "      <td>US-Mexico Border</td>\n",
       "      <td>Personal Vehicles</td>\n",
       "      <td>1823646820</td>\n",
       "    </tr>\n",
       "    <tr>\n",
       "      <th>9</th>\n",
       "      <td>US-Mexico Border</td>\n",
       "      <td>Train Passengers</td>\n",
       "      <td>287853</td>\n",
       "    </tr>\n",
       "  </tbody>\n",
       "</table>\n",
       "</div>"
      ],
      "text/plain": [
       "             border                      measure       value\n",
       "0  US-Canada Border               Bus Passengers    74327495\n",
       "1  US-Canada Border                  Pedestrians    12968574\n",
       "2  US-Canada Border  Personal Vehicle Passengers  1538658810\n",
       "3  US-Canada Border            Personal Vehicles   736044372\n",
       "4  US-Canada Border             Train Passengers     5909597\n",
       "5  US-Mexico Border               Bus Passengers    68003376\n",
       "6  US-Mexico Border                  Pedestrians  1031249540\n",
       "7  US-Mexico Border  Personal Vehicle Passengers  3918732465\n",
       "8  US-Mexico Border            Personal Vehicles  1823646820\n",
       "9  US-Mexico Border             Train Passengers      287853"
      ]
     },
     "execution_count": 189,
     "metadata": {},
     "output_type": "execute_result"
    }
   ],
   "source": [
    "# Use group by method to find sum of values for all general public for borders \n",
    "data1= data[data.vehicle_cat=='gen_public_vehicle'].groupby(['border','measure']).sum().value.reset_index()\n",
    "data1 "
   ]
  },
  {
   "cell_type": "code",
   "execution_count": 191,
   "metadata": {},
   "outputs": [
    {
     "data": {
      "text/html": [
       "<div>\n",
       "<style scoped>\n",
       "    .dataframe tbody tr th:only-of-type {\n",
       "        vertical-align: middle;\n",
       "    }\n",
       "\n",
       "    .dataframe tbody tr th {\n",
       "        vertical-align: top;\n",
       "    }\n",
       "\n",
       "    .dataframe thead th {\n",
       "        text-align: right;\n",
       "    }\n",
       "</style>\n",
       "<table border=\"1\" class=\"dataframe\">\n",
       "  <thead>\n",
       "    <tr style=\"text-align: right;\">\n",
       "      <th></th>\n",
       "      <th>border</th>\n",
       "      <th>measure</th>\n",
       "      <th>value</th>\n",
       "    </tr>\n",
       "  </thead>\n",
       "  <tbody>\n",
       "    <tr>\n",
       "      <th>0</th>\n",
       "      <td>US-Canada Border</td>\n",
       "      <td>Buses</td>\n",
       "      <td>3093613</td>\n",
       "    </tr>\n",
       "    <tr>\n",
       "      <th>1</th>\n",
       "      <td>US-Canada Border</td>\n",
       "      <td>Rail Containers Empty</td>\n",
       "      <td>12350707</td>\n",
       "    </tr>\n",
       "    <tr>\n",
       "      <th>2</th>\n",
       "      <td>US-Canada Border</td>\n",
       "      <td>Rail Containers Full</td>\n",
       "      <td>30461135</td>\n",
       "    </tr>\n",
       "    <tr>\n",
       "      <th>3</th>\n",
       "      <td>US-Canada Border</td>\n",
       "      <td>Trains</td>\n",
       "      <td>700993</td>\n",
       "    </tr>\n",
       "    <tr>\n",
       "      <th>4</th>\n",
       "      <td>US-Canada Border</td>\n",
       "      <td>Truck Containers Empty</td>\n",
       "      <td>24647416</td>\n",
       "    </tr>\n",
       "    <tr>\n",
       "      <th>5</th>\n",
       "      <td>US-Canada Border</td>\n",
       "      <td>Truck Containers Full</td>\n",
       "      <td>106505603</td>\n",
       "    </tr>\n",
       "    <tr>\n",
       "      <th>6</th>\n",
       "      <td>US-Canada Border</td>\n",
       "      <td>Trucks</td>\n",
       "      <td>142294479</td>\n",
       "    </tr>\n",
       "    <tr>\n",
       "      <th>7</th>\n",
       "      <td>US-Mexico Border</td>\n",
       "      <td>Buses</td>\n",
       "      <td>5450143</td>\n",
       "    </tr>\n",
       "    <tr>\n",
       "      <th>8</th>\n",
       "      <td>US-Mexico Border</td>\n",
       "      <td>Rail Containers Empty</td>\n",
       "      <td>8788737</td>\n",
       "    </tr>\n",
       "    <tr>\n",
       "      <th>9</th>\n",
       "      <td>US-Mexico Border</td>\n",
       "      <td>Rail Containers Full</td>\n",
       "      <td>7827258</td>\n",
       "    </tr>\n",
       "    <tr>\n",
       "      <th>10</th>\n",
       "      <td>US-Mexico Border</td>\n",
       "      <td>Trains</td>\n",
       "      <td>202871</td>\n",
       "    </tr>\n",
       "    <tr>\n",
       "      <th>11</th>\n",
       "      <td>US-Mexico Border</td>\n",
       "      <td>Truck Containers Empty</td>\n",
       "      <td>39398619</td>\n",
       "    </tr>\n",
       "    <tr>\n",
       "      <th>12</th>\n",
       "      <td>US-Mexico Border</td>\n",
       "      <td>Truck Containers Full</td>\n",
       "      <td>70684685</td>\n",
       "    </tr>\n",
       "    <tr>\n",
       "      <th>13</th>\n",
       "      <td>US-Mexico Border</td>\n",
       "      <td>Trucks</td>\n",
       "      <td>111359681</td>\n",
       "    </tr>\n",
       "  </tbody>\n",
       "</table>\n",
       "</div>"
      ],
      "text/plain": [
       "              border                 measure      value\n",
       "0   US-Canada Border                   Buses    3093613\n",
       "1   US-Canada Border   Rail Containers Empty   12350707\n",
       "2   US-Canada Border    Rail Containers Full   30461135\n",
       "3   US-Canada Border                  Trains     700993\n",
       "4   US-Canada Border  Truck Containers Empty   24647416\n",
       "5   US-Canada Border   Truck Containers Full  106505603\n",
       "6   US-Canada Border                  Trucks  142294479\n",
       "7   US-Mexico Border                   Buses    5450143\n",
       "8   US-Mexico Border   Rail Containers Empty    8788737\n",
       "9   US-Mexico Border    Rail Containers Full    7827258\n",
       "10  US-Mexico Border                  Trains     202871\n",
       "11  US-Mexico Border  Truck Containers Empty   39398619\n",
       "12  US-Mexico Border   Truck Containers Full   70684685\n",
       "13  US-Mexico Border                  Trucks  111359681"
      ]
     },
     "execution_count": 191,
     "metadata": {},
     "output_type": "execute_result"
    }
   ],
   "source": [
    "# Use group by method to find sum of values for all commercial vehicle for borders \n",
    "data2= data[data.vehicle_cat=='commercial_vehicle'].groupby(['border','measure']).sum().value.reset_index()\n",
    "data2"
   ]
  },
  {
   "cell_type": "code",
   "execution_count": 195,
   "metadata": {},
   "outputs": [
    {
     "data": {
      "text/plain": [
       "<AxesSubplot:xlabel='measure', ylabel='value'>"
      ]
     },
     "execution_count": 195,
     "metadata": {},
     "output_type": "execute_result"
    },
    {
     "data": {
      "image/png": "[encoded data removed]",
      "text/plain": [
       "<Figure size 1080x216 with 1 Axes>"
      ]
     },
     "metadata": {
      "needs_background": "light"
     },
     "output_type": "display_data"
    }
   ],
   "source": [
    "#4) What are diffrrent type of meaures and their sum for both borders- plot bar chart only for vehlcle\n",
    "plt.figure(figsize=(15,3))\n",
    "sns.barplot(data = data[data.vehicle_cat == 'commercial_vehicle']\n",
    "            , x = 'measure', y= 'value' , hue = 'border', estimator = sum )"
   ]
  },
  {
   "cell_type": "code",
   "execution_count": 196,
   "metadata": {},
   "outputs": [
    {
     "data": {
      "text/plain": [
       "<AxesSubplot:xlabel='measure', ylabel='value'>"
      ]
     },
     "execution_count": 196,
     "metadata": {},
     "output_type": "execute_result"
    },
    {
     "data": {
      "image/png": "[encoded data removed]",
      "text/plain": [
       "<Figure size 1080x216 with 1 Axes>"
      ]
     },
     "metadata": {
      "needs_background": "light"
     },
     "output_type": "display_data"
    }
   ],
   "source": [
    "#5)What are diffrrent type of meaures and their sum for both borders- plot bar chart only for general public vehicle\n",
    "plt.figure(figsize=(15,3))\n",
    "sns.barplot(data = data[data.vehicle_cat == 'gen_public_vehicle']\n",
    "            , x = 'measure', y= 'value' , hue = 'border' , estimator = sum)"
   ]
  },
  {
   "cell_type": "code",
   "execution_count": 198,
   "metadata": {},
   "outputs": [
    {
     "data": {
      "text/plain": [
       "measure\n",
       "Bus Passengers                  142330871\n",
       "Buses                             8543756\n",
       "Pedestrians                    1044218114\n",
       "Personal Vehicle Passengers    5457391275\n",
       "Personal Vehicles              2559691192\n",
       "Rail Containers Empty            21139444\n",
       "Rail Containers Full             38288393\n",
       "Train Passengers                  6197450\n",
       "Trains                             903864\n",
       "Truck Containers Empty           64046035\n",
       "Truck Containers Full           177190288\n",
       "Trucks                          253654160\n",
       "Name: value, dtype: int64"
      ]
     },
     "execution_count": 198,
     "metadata": {},
     "output_type": "execute_result"
    }
   ],
   "source": [
    "#6) find sum of values for all measures\n",
    "data.groupby('measure').sum().value\n"
   ]
  },
  {
   "cell_type": "code",
   "execution_count": 203,
   "metadata": {},
   "outputs": [
    {
     "data": {
      "text/html": [
       "<div>\n",
       "<style scoped>\n",
       "    .dataframe tbody tr th:only-of-type {\n",
       "        vertical-align: middle;\n",
       "    }\n",
       "\n",
       "    .dataframe tbody tr th {\n",
       "        vertical-align: top;\n",
       "    }\n",
       "\n",
       "    .dataframe thead th {\n",
       "        text-align: right;\n",
       "    }\n",
       "</style>\n",
       "<table border=\"1\" class=\"dataframe\">\n",
       "  <thead>\n",
       "    <tr style=\"text-align: right;\">\n",
       "      <th></th>\n",
       "      <th>state</th>\n",
       "      <th>vehicle_cat</th>\n",
       "      <th>value</th>\n",
       "    </tr>\n",
       "  </thead>\n",
       "  <tbody>\n",
       "    <tr>\n",
       "      <th>0</th>\n",
       "      <td>Texas</td>\n",
       "      <td>gen_public_vehicle</td>\n",
       "      <td>3464790062</td>\n",
       "    </tr>\n",
       "    <tr>\n",
       "      <th>1</th>\n",
       "      <td>California</td>\n",
       "      <td>gen_public_vehicle</td>\n",
       "      <td>2445411406</td>\n",
       "    </tr>\n",
       "    <tr>\n",
       "      <th>2</th>\n",
       "      <td>Arizona</td>\n",
       "      <td>gen_public_vehicle</td>\n",
       "      <td>869838663</td>\n",
       "    </tr>\n",
       "    <tr>\n",
       "      <th>3</th>\n",
       "      <td>New York</td>\n",
       "      <td>gen_public_vehicle</td>\n",
       "      <td>746667079</td>\n",
       "    </tr>\n",
       "    <tr>\n",
       "      <th>4</th>\n",
       "      <td>Michigan</td>\n",
       "      <td>gen_public_vehicle</td>\n",
       "      <td>627830343</td>\n",
       "    </tr>\n",
       "  </tbody>\n",
       "</table>\n",
       "</div>"
      ],
      "text/plain": [
       "        state         vehicle_cat       value\n",
       "0       Texas  gen_public_vehicle  3464790062\n",
       "1  California  gen_public_vehicle  2445411406\n",
       "2     Arizona  gen_public_vehicle   869838663\n",
       "3    New York  gen_public_vehicle   746667079\n",
       "4    Michigan  gen_public_vehicle   627830343"
      ]
     },
     "execution_count": 203,
     "metadata": {},
     "output_type": "execute_result"
    }
   ],
   "source": [
    "#8) which state has highest and lowest numebr vehicles travelled\n",
    "state_travel = data.groupby(['state','vehicle_cat'])['value'].sum().sort_values(ascending=False).reset_index()\n",
    "state_travel.head()"
   ]
  },
  {
   "cell_type": "code",
   "execution_count": 221,
   "metadata": {},
   "outputs": [
    {
     "data": {
      "text/plain": [
       "<AxesSubplot:xlabel='state', ylabel='value'>"
      ]
     },
     "execution_count": 221,
     "metadata": {},
     "output_type": "execute_result"
    },
    {
     "data": {
      "image/png": "[encoded data removed]",
      "text/plain": [
       "<Figure size 1224x504 with 1 Axes>"
      ]
     },
     "metadata": {
      "needs_background": "light"
     },
     "output_type": "display_data"
    }
   ],
   "source": [
    "plt.figure(figsize=(17,7))\n",
    "sns.barplot(x = 'state', y = 'value', data = state_travel, hue = 'vehicle_cat')"
   ]
  },
  {
   "cell_type": "code",
   "execution_count": 224,
   "metadata": {},
   "outputs": [
    {
     "data": {
      "text/plain": [
       "<AxesSubplot:xlabel='value', ylabel='port_name'>"
      ]
     },
     "execution_count": 224,
     "metadata": {},
     "output_type": "execute_result"
    },
    {
     "data": {
      "image/png": "[encoded data removed]",
      "text/plain": [
       "<Figure size 1080x2880 with 1 Axes>"
      ]
     },
     "metadata": {
      "needs_background": "light"
     },
     "output_type": "display_data"
    }
   ],
   "source": [
    "port_data=data.groupby(['port_name','vehicle_cat'])['value'].sum().sort_values(ascending=False).reset_index()\n",
    "plt.figure(figsize=(15,40))\n",
    "sns.barplot(data=port_data[port_data.vehicle_cat=='gen_public_vehicle'],y='port_name',x='value')"
   ]
  },
  {
   "cell_type": "code",
   "execution_count": 35,
   "metadata": {},
   "outputs": [
    {
     "data": {
      "text/plain": [
       "US-Canada Border    266187\n",
       "US-Mexico Border     80546\n",
       "Name: border, dtype: int64"
      ]
     },
     "execution_count": 35,
     "metadata": {},
     "output_type": "execute_result"
    }
   ],
   "source": [
    "border_count = data.border.value_counts()\n",
    "border_count"
   ]
  },
  {
   "cell_type": "code",
   "execution_count": 32,
   "metadata": {},
   "outputs": [
    {
     "data": {
      "image/png": "[encoded data removed]",
      "text/plain": [
       "<Figure size 504x432 with 1 Axes>"
      ]
     },
     "metadata": {},
     "output_type": "display_data"
    }
   ],
   "source": [
    "plt.figure(figsize=(7,6))\n",
    "plt.pie(x = border_count.values,explode=[0.03,0.03], labels = border_count.index, autopct='%0.2f%%',)\n",
    "plt.title('Composition of the Borders')\n",
    "plt.show()"
   ]
  },
  {
   "cell_type": "code",
   "execution_count": null,
   "metadata": {},
   "outputs": [],
   "source": []
  },
  {
   "cell_type": "code",
   "execution_count": 186,
   "metadata": {},
   "outputs": [
    {
     "data": {
      "text/plain": [
       "<AxesSubplot:xlabel='border', ylabel='value'>"
      ]
     },
     "execution_count": 186,
     "metadata": {},
     "output_type": "execute_result"
    },
    {
     "data": {
      "image/png": "[encoded data removed]",
      "text/plain": [
       "<Figure size 432x288 with 1 Axes>"
      ]
     },
     "metadata": {
      "needs_background": "light"
     },
     "output_type": "display_data"
    }
   ],
   "source": [
    "sns.barplot(x = 'border', y = 'value' , hue = 'vehicle_cat',data = data , estimator =sum)"
   ]
  },
  {
   "cell_type": "code",
   "execution_count": 184,
   "metadata": {},
   "outputs": [
    {
     "data": {
      "text/plain": [
       "<AxesSubplot:xlabel='vehicle_cat', ylabel='value'>"
      ]
     },
     "execution_count": 184,
     "metadata": {},
     "output_type": "execute_result"
    },
    {
     "data": {
      "image/png": "[encoded data removed]",
      "text/plain": [
       "<Figure size 1080x216 with 1 Axes>"
      ]
     },
     "metadata": {
      "needs_background": "light"
     },
     "output_type": "display_data"
    }
   ],
   "source": [
    "plt.figure(figsize=(15,3))\n",
    "sns.barplot(data=data, x='vehicle_cat',y='value',hue='border',estimator =sum)"
   ]
  },
  {
   "cell_type": "code",
   "execution_count": 169,
   "metadata": {},
   "outputs": [
    {
     "data": {
      "text/plain": [
       "<AxesSubplot:xlabel='year'>"
      ]
     },
     "execution_count": 169,
     "metadata": {},
     "output_type": "execute_result"
    },
    {
     "data": {
      "image/png": "[encoded data removed]",
      "text/plain": [
       "<Figure size 432x288 with 1 Axes>"
      ]
     },
     "metadata": {
      "needs_background": "light"
     },
     "output_type": "display_data"
    }
   ],
   "source": [
    "sns.distplot(data.year)"
   ]
  },
  {
   "cell_type": "code",
   "execution_count": 216,
   "metadata": {},
   "outputs": [
    {
     "data": {
      "text/plain": [
       "<AxesSubplot:xlabel='month'>"
      ]
     },
     "execution_count": 216,
     "metadata": {},
     "output_type": "execute_result"
    },
    {
     "data": {
      "image/png": "[encoded data removed]",
      "text/plain": [
       "<Figure size 432x288 with 1 Axes>"
      ]
     },
     "metadata": {
      "needs_background": "light"
     },
     "output_type": "display_data"
    }
   ],
   "source": [
    "sns.distplot(data.month)"
   ]
  },
  {
   "cell_type": "code",
   "execution_count": 188,
   "metadata": {},
   "outputs": [
    {
     "data": {
      "text/plain": [
       "<AxesSubplot:xlabel='port_code'>"
      ]
     },
     "execution_count": 188,
     "metadata": {},
     "output_type": "execute_result"
    },
    {
     "data": {
      "image/png": "[encoded data removed]",
      "text/plain": [
       "<Figure size 432x288 with 1 Axes>"
      ]
     },
     "metadata": {
      "needs_background": "light"
     },
     "output_type": "display_data"
    }
   ],
   "source": [
    "sns.distplot(data.port_code)"
   ]
  },
  {
   "cell_type": "code",
   "execution_count": 229,
   "metadata": {},
   "outputs": [
    {
     "data": {
      "text/plain": [
       "<AxesSubplot:xlabel='state', ylabel='value'>"
      ]
     },
     "execution_count": 229,
     "metadata": {},
     "output_type": "execute_result"
    },
    {
     "data": {
      "image/png": "[encoded data removed]",
      "text/plain": [
       "<Figure size 1296x864 with 1 Axes>"
      ]
     },
     "metadata": {
      "needs_background": "light"
     },
     "output_type": "display_data"
    }
   ],
   "source": [
    "temp = pd.DataFrame(data.groupby('state')['value'].sum().sort_values()).reset_index()\n",
    "plt.figure(figsize=(18,12))\n",
    "sns.barplot(x = 'state' , y = 'value' , data = temp)"
   ]
  },
  {
   "cell_type": "code",
   "execution_count": 37,
   "metadata": {},
   "outputs": [
    {
     "data": {
      "text/plain": [
       "<AxesSubplot:xlabel='state', ylabel='weekdays'>"
      ]
     },
     "execution_count": 37,
     "metadata": {},
     "output_type": "execute_result"
    },
    {
     "data": {
      "image/png": "[encoded data removed]",
      "text/plain": [
       "<Figure size 1296x864 with 1 Axes>"
      ]
     },
     "metadata": {
      "needs_background": "light"
     },
     "output_type": "display_data"
    }
   ],
   "source": [
    "plt.figure(figsize=(18,12))\n",
    "\n",
    "sns.barplot(x = 'state', y = 'weekdays', data = data)"
   ]
  },
  {
   "cell_type": "code",
   "execution_count": null,
   "metadata": {},
   "outputs": [],
   "source": []
  }
 ],
 "metadata": {
  "kernelspec": {
   "display_name": "Python 3",
   "language": "python",
   "name": "python3"
  },
  "language_info": {
   "codemirror_mode": {
    "name": "ipython",
    "version": 3
   },
   "file_extension": ".py",
   "mimetype": "text/x-python",
   "name": "python",
   "nbconvert_exporter": "python",
   "pygments_lexer": "ipython3",
   "version": "3.7.9"
  }
 },
 "nbformat": 4,
 "nbformat_minor": 4
}
